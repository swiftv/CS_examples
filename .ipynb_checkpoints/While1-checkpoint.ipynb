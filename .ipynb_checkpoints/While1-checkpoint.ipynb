{
 "cells": [
  {
   "cell_type": "markdown",
   "metadata": {},
   "source": [
    "# While Loops\n",
    "\n",
    "Iteration with While loops is based on boolean logic. A conditional statement is tested each time the loop executes. \n",
    "\n",
    "Conditional statements are those that return a boolean value of True or False, for example \n",
    "\n",
    "**x < 5**\n",
    "\n",
    "There are a range conditional operators, some are combined with boolean operators:\n",
    "\n",
    "**Greater than** >\n",
    "\n",
    "**Less than** <\n",
    "\n",
    "**Greater than or equal to** >=\n",
    "\n",
    "**Less than or equal to** <=\n",
    "\n",
    "**The same as** ==\n",
    "\n",
    "**Not the same as** !=\n",
    "\n",
    "\n",
    "Often, a variable is used to store the value that will be tested against.\n",
    "\n",
    "Here's a loop that counts from one to ten"
   ]
  },
  {
   "cell_type": "code",
   "execution_count": 8,
   "metadata": {},
   "outputs": [
    {
     "name": "stdout",
     "output_type": "stream",
     "text": [
      "1\n",
      "2\n",
      "3\n",
      "4\n",
      "5\n",
      "6\n",
      "7\n",
      "8\n",
      "9\n"
     ]
    }
   ],
   "source": [
    "count = 1\n",
    "while count < 10:\n",
    "  print(count)\n",
    "  count += 1"
   ]
  },
  {
   "cell_type": "markdown",
   "metadata": {},
   "source": [
    "Notice that within the loop, the variable used in the test is incremented using += 1, which is the same as writing count = count + 1"
   ]
  },
  {
   "cell_type": "code",
   "execution_count": 7,
   "metadata": {},
   "outputs": [
    {
     "name": "stdout",
     "output_type": "stream",
     "text": [
      "1\n",
      "2\n",
      "3\n",
      "4\n",
      "5\n",
      "6\n",
      "7\n",
      "8\n",
      "9\n"
     ]
    }
   ],
   "source": [
    "count = 1\n",
    "while count < 10:\n",
    "  print(count)\n",
    "  count += 1"
   ]
  },
  {
   "cell_type": "markdown",
   "metadata": {},
   "source": [
    "Note that we need to be careful with the conditional statement, that it doesn't end too soon."
   ]
  },
  {
   "cell_type": "markdown",
   "metadata": {},
   "source": [
    "See how slightly changing the operator, gives us the output we want. "
   ]
  },
  {
   "cell_type": "code",
   "execution_count": 6,
   "metadata": {},
   "outputs": [
    {
     "name": "stdout",
     "output_type": "stream",
     "text": [
      "1\n",
      "2\n",
      "3\n",
      "4\n",
      "5\n",
      "6\n",
      "7\n",
      "8\n",
      "9\n",
      "10\n"
     ]
    }
   ],
   "source": [
    "count = 1\n",
    "while count <= 10:\n",
    "  print(count)\n",
    "  count += 1"
   ]
  },
  {
   "cell_type": "markdown",
   "metadata": {},
   "source": [
    "Because we loop until something happens, rather than across a range of data, we do not know when the repetition will end. This is called **indefinite iteration** "
   ]
  },
  {
   "cell_type": "markdown",
   "metadata": {},
   "source": [
    "A while loop is used extensively in event based programming as in games or graphical interfaces. "
   ]
  },
  {
   "cell_type": "markdown",
   "metadata": {},
   "source": [
    "Let's use a while loop to calculate a mathematical series. The **fibonacci series** is embedded in nature. It starts with two terms, 0 and 1. The next term is the addition of the two previous. \n",
    "\n",
    "https://brilliant.org/wiki/fibonacci-series/"
   ]
  },
  {
   "cell_type": "markdown",
   "metadata": {},
   "source": [
    "Let's assign the first two terms to variables:"
   ]
  },
  {
   "cell_type": "code",
   "execution_count": null,
   "metadata": {},
   "outputs": [],
   "source": [
    "a = 0\n",
    "b = 1"
   ]
  },
  {
   "cell_type": "markdown",
   "metadata": {},
   "source": [
    "We start with a number. We could use an input here, but for this example we'll set it now. The algorithm will stop when the series reaches it. "
   ]
  },
  {
   "cell_type": "code",
   "execution_count": 5,
   "metadata": {},
   "outputs": [],
   "source": [
    "n = 9876234"
   ]
  },
  {
   "cell_type": "markdown",
   "metadata": {},
   "source": [
    "Now, the while loop starts checking whether our series has reached our goal, printing each term as it goes and updating the numbers on the way."
   ]
  },
  {
   "cell_type": "code",
   "execution_count": 3,
   "metadata": {},
   "outputs": [
    {
     "name": "stdout",
     "output_type": "stream",
     "text": [
      "0, 1, 1, 2, 3, 5, 8, 13, 21, 34, 55, 89, 144, 233, 377, 610, 987, 1597, 2584, 4181, 6765, 10946, 17711, 28657, "
     ]
    }
   ],
   "source": [
    "while a < n:\n",
    "    #print the term, a\n",
    "    print(a, end=\", \")\n",
    "    #calculate the next number and assign it to a new variable\n",
    "    next_n = a + b\n",
    "    #then move the values to be calculated next so...\n",
    "    #b becomes a\n",
    "    a = b\n",
    "    #b is the newly calculated term.\n",
    "    b = next_n\n",
    "    #and the loop returns to the top and checks whether a has reached the goal... "
   ]
  },
  {
   "cell_type": "code",
   "execution_count": null,
   "metadata": {},
   "outputs": [],
   "source": []
  },
  {
   "cell_type": "code",
   "execution_count": null,
   "metadata": {},
   "outputs": [],
   "source": []
  }
 ],
 "metadata": {
  "kernelspec": {
   "display_name": "Python 3",
   "language": "python",
   "name": "python3"
  },
  "language_info": {
   "codemirror_mode": {
    "name": "ipython",
    "version": 3
   },
   "file_extension": ".py",
   "mimetype": "text/x-python",
   "name": "python",
   "nbconvert_exporter": "python",
   "pygments_lexer": "ipython3",
   "version": "3.7.6"
  }
 },
 "nbformat": 4,
 "nbformat_minor": 4
}
