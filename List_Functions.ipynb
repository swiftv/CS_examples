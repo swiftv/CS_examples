{
  "nbformat": 4,
  "nbformat_minor": 0,
  "metadata": {
    "colab": {
      "name": "List Functions.ipynb",
      "provenance": [],
      "authorship_tag": "ABX9TyPzLHuHwPDaOjmy6J4vA31Y",
      "include_colab_link": true
    },
    "kernelspec": {
      "name": "python3",
      "display_name": "Python 3"
    }
  },
  "cells": [
    {
      "cell_type": "markdown",
      "metadata": {
        "id": "view-in-github",
        "colab_type": "text"
      },
      "source": [
        "<a href=\"https://colab.research.google.com/github/swiftv/CS_examples/blob/main/List_Functions.ipynb\" target=\"_parent\"><img src=\"https://colab.research.google.com/assets/colab-badge.svg\" alt=\"Open In Colab\"/></a>"
      ]
    },
    {
      "cell_type": "markdown",
      "metadata": {
        "id": "LWI9lriCTmVS"
      },
      "source": [
        "**List Functions**\r\n",
        "\r\n",
        "Welcome to interactive python - this is a python notebook. The code is interactive, but needs execution. If you change it, you can re-execute the code cell by cell. \r\n",
        "\r\n",
        "Press **Ctrl-F9** or use the Runtime menu and **'run all'** before you start.\r\n"
      ]
    },
    {
      "cell_type": "markdown",
      "metadata": {
        "id": "hB8NnG_6Tf66"
      },
      "source": [
        "Lets make a list..."
      ]
    },
    {
      "cell_type": "code",
      "metadata": {
        "id": "wnpnoJVWTtCS"
      },
      "source": [
        "my_list = ['Oranges','Grapes','Bananas','Grapefruit','Apples']\r\n",
        "\r\n"
      ],
      "execution_count": null,
      "outputs": []
    },
    {
      "cell_type": "markdown",
      "metadata": {
        "id": "bdS9WD93T_Xh"
      },
      "source": [
        "This is a standard way to represent data in sequences in a computer - a list is simply a sequence of comma-separated values. \r\n",
        "\r\n",
        "It is bounded by square brackets.\r\n",
        "\r\n",
        "It can also be of mixed data-type, so **`[ 3, 4, True, 'Hello']`** is a valid list\r\n",
        "\r\n",
        "Just like strings, we can use indexes to access the information\r\n"
      ]
    },
    {
      "cell_type": "code",
      "metadata": {
        "colab": {
          "base_uri": "https://localhost:8080/",
          "height": 35
        },
        "id": "YcE4Dd97UkSJ",
        "outputId": "db212f01-c756-40b3-f1a3-23b9c8e27215"
      },
      "source": [
        "my_list[0]"
      ],
      "execution_count": null,
      "outputs": [
        {
          "output_type": "execute_result",
          "data": {
            "application/vnd.google.colaboratory.intrinsic+json": {
              "type": "string"
            },
            "text/plain": [
              "'Oranges'"
            ]
          },
          "metadata": {
            "tags": []
          },
          "execution_count": 62
        }
      ]
    },
    {
      "cell_type": "markdown",
      "metadata": {
        "id": "-Hu_bHT7UtEh"
      },
      "source": [
        "We can slice"
      ]
    },
    {
      "cell_type": "code",
      "metadata": {
        "colab": {
          "base_uri": "https://localhost:8080/"
        },
        "id": "CAu45NMsU4gA",
        "outputId": "d43800c3-9509-406e-8cd6-8c1459f43087"
      },
      "source": [
        "print(my_list[2:4])\r\n",
        "print(my_list[:5])\r\n",
        "print(my_list[-2])"
      ],
      "execution_count": null,
      "outputs": [
        {
          "output_type": "stream",
          "text": [
            "['Bananas', 'Grapefruit']\n",
            "['Oranges', 'Grapes', 'Bananas', 'Grapefruit', 'Apples']\n",
            "Grapefruit\n"
          ],
          "name": "stdout"
        }
      ]
    },
    {
      "cell_type": "markdown",
      "metadata": {
        "id": "u3I7p_hlVQ7C"
      },
      "source": [
        "But, unlike strings, we can *update* items in the list (remember - strings are *immutable*)"
      ]
    },
    {
      "cell_type": "code",
      "metadata": {
        "colab": {
          "base_uri": "https://localhost:8080/"
        },
        "id": "QOwWOSfVVm55",
        "outputId": "076ee912-0adf-4fd7-c7bc-9b64c79e3301"
      },
      "source": [
        "my_list[3] = 'Cherries'\r\n",
        "print(my_list)"
      ],
      "execution_count": null,
      "outputs": [
        {
          "output_type": "stream",
          "text": [
            "['Oranges', 'Grapes', 'Bananas', 'Cherries', 'Apples']\n"
          ],
          "name": "stdout"
        }
      ]
    },
    {
      "cell_type": "markdown",
      "metadata": {
        "id": "8EmyKPC-CsZL"
      },
      "source": [
        "We can delete items by their index - **note the strange syntax!**\r\n",
        "\r\n"
      ]
    },
    {
      "cell_type": "code",
      "metadata": {
        "colab": {
          "base_uri": "https://localhost:8080/"
        },
        "id": "R-qeNFOmCwNq",
        "outputId": "189cad94-ca66-4a80-ae12-1112f10190f7"
      },
      "source": [
        "del my_list[3]\r\n",
        "print(my_list)"
      ],
      "execution_count": null,
      "outputs": [
        {
          "output_type": "stream",
          "text": [
            "['Oranges', 'Grapes', 'Bananas', 'Apples']\n"
          ],
          "name": "stdout"
        }
      ]
    },
    {
      "cell_type": "markdown",
      "metadata": {
        "id": "wNtKPt_YV1GA"
      },
      "source": [
        "We can delete elements by their value"
      ]
    },
    {
      "cell_type": "code",
      "metadata": {
        "colab": {
          "base_uri": "https://localhost:8080/"
        },
        "id": "IgjV4dJuV-AA",
        "outputId": "1f24a048-da3a-4a1d-9071-f865c44fb62a"
      },
      "source": [
        "print(my_list)\r\n",
        "\r\n",
        "my_list.remove('Grapes')\r\n",
        "\r\n",
        "print(my_list)"
      ],
      "execution_count": null,
      "outputs": [
        {
          "output_type": "stream",
          "text": [
            "['Oranges', 'Grapes', 'Bananas', 'Apples']\n",
            "['Oranges', 'Bananas', 'Apples']\n"
          ],
          "name": "stdout"
        }
      ]
    },
    {
      "cell_type": "markdown",
      "metadata": {
        "id": "TRwrHGcIW4WS"
      },
      "source": [
        "Though if there are more than one matching element...\r\n"
      ]
    },
    {
      "cell_type": "code",
      "metadata": {
        "colab": {
          "base_uri": "https://localhost:8080/"
        },
        "id": "7em79F2dXJR7",
        "outputId": "e561c762-38a1-40d1-84d2-f38e952a5827"
      },
      "source": [
        "my_list2 = ['grapes','oranges','grapes']\r\n",
        "my_list2.remove('grapes')\r\n",
        "print(my_list2)"
      ],
      "execution_count": null,
      "outputs": [
        {
          "output_type": "stream",
          "text": [
            "['oranges', 'grapes']\n"
          ],
          "name": "stdout"
        }
      ]
    },
    {
      "cell_type": "markdown",
      "metadata": {
        "id": "M8XvNt-7ZNQ4"
      },
      "source": [
        "...it just removes the first instance. Sidequest - Could you make a function that removes all instances? "
      ]
    },
    {
      "cell_type": "markdown",
      "metadata": {
        "id": "4nfuiWfyZaUY"
      },
      "source": [
        "Lists can be concatenated"
      ]
    },
    {
      "cell_type": "code",
      "metadata": {
        "colab": {
          "base_uri": "https://localhost:8080/"
        },
        "id": "tsjIleqXaGs9",
        "outputId": "80065dea-12c1-4631-cf0c-661cc62ecf15"
      },
      "source": [
        "my_big_list = my_list + my_list2\r\n",
        "\r\n",
        "print(my_big_list)"
      ],
      "execution_count": null,
      "outputs": [
        {
          "output_type": "stream",
          "text": [
            "['Oranges', 'Bananas', 'Apples', 'oranges', 'grapes']\n"
          ],
          "name": "stdout"
        }
      ]
    },
    {
      "cell_type": "markdown",
      "metadata": {
        "id": "hOxmaaLGbI1P"
      },
      "source": [
        "We can get their length"
      ]
    },
    {
      "cell_type": "code",
      "metadata": {
        "colab": {
          "base_uri": "https://localhost:8080/"
        },
        "id": "k5hGmL82bUQf",
        "outputId": "a2cd2fd2-d06b-439e-daf8-ecdf39a33206"
      },
      "source": [
        "len(my_big_list)"
      ],
      "execution_count": null,
      "outputs": [
        {
          "output_type": "execute_result",
          "data": {
            "text/plain": [
              "5"
            ]
          },
          "metadata": {
            "tags": []
          },
          "execution_count": 69
        }
      ]
    },
    {
      "cell_type": "markdown",
      "metadata": {
        "id": "QWXefUU_ba1Y"
      },
      "source": [
        "We can add things to the end"
      ]
    },
    {
      "cell_type": "code",
      "metadata": {
        "colab": {
          "base_uri": "https://localhost:8080/"
        },
        "id": "AL63IvSTCPaO",
        "outputId": "e498e4a6-ed30-4f6b-8e48-f78581660f11"
      },
      "source": [
        "my_big_list.append('avocados')\r\n",
        "print(my_big_list)"
      ],
      "execution_count": null,
      "outputs": [
        {
          "output_type": "stream",
          "text": [
            "['Oranges', 'Bananas', 'Apples', 'oranges', 'grapes', 'avocados']\n"
          ],
          "name": "stdout"
        }
      ]
    },
    {
      "cell_type": "markdown",
      "metadata": {
        "id": "tPz6IOcQCduC"
      },
      "source": [
        "We can insert new items mid-list - insert takes two arguments - the index at which to insert the item and the tiem itself"
      ]
    },
    {
      "cell_type": "code",
      "metadata": {
        "colab": {
          "base_uri": "https://localhost:8080/"
        },
        "id": "-rFxjZk7DNQD",
        "outputId": "1cc6f88f-62a5-47d7-a241-c00991b0ca0a"
      },
      "source": [
        "my_big_list.insert(2, 'Raspberries')\r\n",
        "print(my_big_list)"
      ],
      "execution_count": null,
      "outputs": [
        {
          "output_type": "stream",
          "text": [
            "['Oranges', 'Bananas', 'Raspberries', 'Apples', 'oranges', 'grapes', 'avocados']\n"
          ],
          "name": "stdout"
        }
      ]
    },
    {
      "cell_type": "markdown",
      "metadata": {
        "id": "h_k-QvW7TlTT"
      },
      "source": [
        "Many times we need to simply remove the last item from the list and find out what it was.  **`pop()`** allows us to do this. It removes the item at the end of the list and returns it. To use the value, store it or use it in place. "
      ]
    },
    {
      "cell_type": "code",
      "metadata": {
        "colab": {
          "base_uri": "https://localhost:8080/"
        },
        "id": "27KcDRr8T_-7",
        "outputId": "d371a18b-8d26-4447-cabc-4d941ada1805"
      },
      "source": [
        "print(my_big_list.pop())\r\n",
        "print(my_big_list)"
      ],
      "execution_count": null,
      "outputs": [
        {
          "output_type": "stream",
          "text": [
            "grapes\n",
            "['Oranges', 'Bananas', 'Raspberries', 'Apples', 'oranges']\n"
          ],
          "name": "stdout"
        }
      ]
    },
    {
      "cell_type": "markdown",
      "metadata": {
        "id": "Kz_mz2zfXFlw"
      },
      "source": [
        "Further list functions - just useful - see if you can work out what they do\r\n"
      ]
    },
    {
      "cell_type": "code",
      "metadata": {
        "colab": {
          "base_uri": "https://localhost:8080/"
        },
        "id": "P3KiqfgMXFJg",
        "outputId": "67c08a8f-66ca-42dd-e21e-676c1267a44a"
      },
      "source": [
        "my_big_list.count('Bananas')\r\n"
      ],
      "execution_count": null,
      "outputs": [
        {
          "output_type": "execute_result",
          "data": {
            "text/plain": [
              "1"
            ]
          },
          "metadata": {
            "tags": []
          },
          "execution_count": 76
        }
      ]
    },
    {
      "cell_type": "code",
      "metadata": {
        "colab": {
          "base_uri": "https://localhost:8080/"
        },
        "id": "p4GYukgDXao_",
        "outputId": "d76b96a1-784d-488f-9125-1f0ba30a0315"
      },
      "source": [
        "my_big_list.index('Raspberries')\r\n"
      ],
      "execution_count": null,
      "outputs": [
        {
          "output_type": "execute_result",
          "data": {
            "text/plain": [
              "2"
            ]
          },
          "metadata": {
            "tags": []
          },
          "execution_count": 77
        }
      ]
    },
    {
      "cell_type": "code",
      "metadata": {
        "colab": {
          "base_uri": "https://localhost:8080/"
        },
        "id": "7TAAyX_NXhTQ",
        "outputId": "a56a7ebc-1217-45d7-eb2c-af6b067c37a0"
      },
      "source": [
        "my_big_list.reverse()\r\n",
        "print(my_big_list)"
      ],
      "execution_count": null,
      "outputs": [
        {
          "output_type": "stream",
          "text": [
            "['oranges', 'Apples', 'Raspberries', 'Bananas', 'Oranges']\n"
          ],
          "name": "stdout"
        }
      ]
    },
    {
      "cell_type": "code",
      "metadata": {
        "colab": {
          "base_uri": "https://localhost:8080/"
        },
        "id": "k2J0Qc6OXsAY",
        "outputId": "b7318b87-80f9-43d8-a63d-5d2008542d8d"
      },
      "source": [
        "my_big_list.sort()\r\n",
        "print(my_big_list)"
      ],
      "execution_count": null,
      "outputs": [
        {
          "output_type": "stream",
          "text": [
            "None\n",
            "['Apples', 'Bananas', 'Oranges', 'Raspberries', 'oranges']\n"
          ],
          "name": "stdout"
        }
      ]
    }
  ]
}